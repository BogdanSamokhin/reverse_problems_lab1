{
 "cells": [
  {
   "cell_type": "code",
   "execution_count": 1,
   "metadata": {},
   "outputs": [],
   "source": [
    "import numpy as np\n",
    "import matplotlib.pyplot as plt"
   ]
  },
  {
   "attachments": {},
   "cell_type": "markdown",
   "metadata": {},
   "source": [
    "# Иницилизация"
   ]
  },
  {
   "cell_type": "code",
   "execution_count": 3,
   "metadata": {},
   "outputs": [],
   "source": [
    "a,b = 0,1\n",
    "n = 100\n",
    "t = np.linspace(a,b,n)\n",
    "s = np.linspace(a,b,n)\n",
    "x = np.linspace(a,b,n)\n",
    "alpha = 1e-6\n",
    "eps = 0.001\n",
    "s = 1\n",
    "right_side = np.full(n,np.NAN)\n",
    "left_side = np.full((n,n),np.NAN)\n",
    "real_one = np.full(n,np.NAN)\n",
    "A = np.ones(n)\n",
    "A[0],A[n - 1] = 0.5,0.5\n",
    "h = (b - a) / (n - 1)"
   ]
  },
  {
   "cell_type": "code",
   "execution_count": null,
   "metadata": {},
   "outputs": [],
   "source": [
    "for i in range(n):\n",
    "    real_one[i] = np.sin(x[i])"
   ]
  }
 ],
 "metadata": {
  "kernelspec": {
   "display_name": "Python 3",
   "language": "python",
   "name": "python3"
  },
  "language_info": {
   "codemirror_mode": {
    "name": "ipython",
    "version": 3
   },
   "file_extension": ".py",
   "mimetype": "text/x-python",
   "name": "python",
   "nbconvert_exporter": "python",
   "pygments_lexer": "ipython3",
   "version": "3.11.4"
  },
  "orig_nbformat": 4
 },
 "nbformat": 4,
 "nbformat_minor": 2
}
