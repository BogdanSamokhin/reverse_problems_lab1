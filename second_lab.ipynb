{
 "cells": [
  {
   "cell_type": "code",
   "execution_count": 94,
   "metadata": {},
   "outputs": [],
   "source": [
    "import numpy as np\n",
    "import matplotlib.pyplot as plt"
   ]
  },
  {
   "attachments": {},
   "cell_type": "markdown",
   "metadata": {},
   "source": [
    "# Иницилизация"
   ]
  },
  {
   "cell_type": "code",
   "execution_count": 95,
   "metadata": {},
   "outputs": [],
   "source": [
    "a,b = 0,1\n",
    "n = 100\n",
    "t = np.linspace(a,b,n)\n",
    "s = np.linspace(a,b,n)\n",
    "x = np.linspace(a,b,n)\n",
    "alpha = 1e-6\n",
    "eps = 0.001\n",
    "q = 1\n",
    "p = 1\n",
    "right_side = np.full(n,np.NAN)\n",
    "left_side = np.full((n,n),np.NAN)\n",
    "real_one = np.full(n,np.NAN)\n",
    "A = np.ones(n)\n",
    "A[0],A[n - 1] = 0.5,0.5\n",
    "h = (b - a) / (n - 1)"
   ]
  },
  {
   "cell_type": "code",
   "execution_count": 96,
   "metadata": {},
   "outputs": [],
   "source": [
    "for i in range(n):\n",
    "    real_one[i] = np.sin(x[i])"
   ]
  },
  {
   "cell_type": "code",
   "execution_count": 97,
   "metadata": {},
   "outputs": [
    {
     "data": {
      "text/plain": [
       "array([0.        , 0.01010084, 0.02020065, 0.03029839, 0.04039305,\n",
       "       0.05048358, 0.06056897, 0.07064817, 0.08072016, 0.09078392,\n",
       "       0.10083842, 0.11088263, 0.12091552, 0.13093608, 0.14094328,\n",
       "       0.1509361 , 0.16091352, 0.17087452, 0.18081808, 0.1907432 ,\n",
       "       0.20064886, 0.21053404, 0.22039774, 0.23023896, 0.24005668,\n",
       "       0.24984992, 0.25961766, 0.26935891, 0.27907268, 0.28875797,\n",
       "       0.2984138 , 0.30803919, 0.31763315, 0.3271947 , 0.33672286,\n",
       "       0.34621667, 0.35567516, 0.36509735, 0.3744823 , 0.38382904,\n",
       "       0.39313661, 0.40240408, 0.41163048, 0.42081489, 0.42995636,\n",
       "       0.43905397, 0.44810678, 0.45711386, 0.46607431, 0.47498721,\n",
       "       0.48385164, 0.49266671, 0.5014315 , 0.51014514, 0.51880673,\n",
       "       0.52741539, 0.53597023, 0.54447039, 0.55291499, 0.56130318,\n",
       "       0.56963411, 0.57790691, 0.58612075, 0.59427479, 0.60236819,\n",
       "       0.61040014, 0.6183698 , 0.62627638, 0.63411905, 0.64189703,\n",
       "       0.64960951, 0.65725572, 0.66483486, 0.67234618, 0.67978889,\n",
       "       0.68716224, 0.69446549, 0.70169788, 0.70885867, 0.71594714,\n",
       "       0.72296256, 0.72990422, 0.73677141, 0.74356342, 0.75027957,\n",
       "       0.75691917, 0.76348154, 0.76996601, 0.77637192, 0.78269862,\n",
       "       0.78894546, 0.79511181, 0.80119703, 0.8072005 , 0.81312162,\n",
       "       0.81895978, 0.82471437, 0.83038482, 0.83597055, 0.84147098])"
      ]
     },
     "execution_count": 97,
     "metadata": {},
     "output_type": "execute_result"
    }
   ],
   "source": [
    "real_one"
   ]
  },
  {
   "cell_type": "code",
   "execution_count": 98,
   "metadata": {},
   "outputs": [
    {
     "data": {
      "text/plain": [
       "array([0.5, 1. , 1. , 1. , 1. , 1. , 1. , 1. , 1. , 1. , 1. , 1. , 1. ,\n",
       "       1. , 1. , 1. , 1. , 1. , 1. , 1. , 1. , 1. , 1. , 1. , 1. , 1. ,\n",
       "       1. , 1. , 1. , 1. , 1. , 1. , 1. , 1. , 1. , 1. , 1. , 1. , 1. ,\n",
       "       1. , 1. , 1. , 1. , 1. , 1. , 1. , 1. , 1. , 1. , 1. , 1. , 1. ,\n",
       "       1. , 1. , 1. , 1. , 1. , 1. , 1. , 1. , 1. , 1. , 1. , 1. , 1. ,\n",
       "       1. , 1. , 1. , 1. , 1. , 1. , 1. , 1. , 1. , 1. , 1. , 1. , 1. ,\n",
       "       1. , 1. , 1. , 1. , 1. , 1. , 1. , 1. , 1. , 1. , 1. , 1. , 1. ,\n",
       "       1. , 1. , 1. , 1. , 1. , 1. , 1. , 1. , 0.5])"
      ]
     },
     "execution_count": 98,
     "metadata": {},
     "output_type": "execute_result"
    }
   ],
   "source": [
    "A"
   ]
  },
  {
   "cell_type": "code",
   "execution_count": 99,
   "metadata": {},
   "outputs": [
    {
     "data": {
      "text/plain": [
       "array([[nan, nan, nan, ..., nan, nan, nan],\n",
       "       [nan, nan, nan, ..., nan, nan, nan],\n",
       "       [nan, nan, nan, ..., nan, nan, nan],\n",
       "       ...,\n",
       "       [nan, nan, nan, ..., nan, nan, nan],\n",
       "       [nan, nan, nan, ..., nan, nan, nan],\n",
       "       [nan, nan, nan, ..., nan, nan, nan]])"
      ]
     },
     "execution_count": 99,
     "metadata": {},
     "output_type": "execute_result"
    }
   ],
   "source": [
    "left_side"
   ]
  },
  {
   "cell_type": "code",
   "execution_count": 100,
   "metadata": {},
   "outputs": [
    {
     "data": {
      "text/plain": [
       "array([nan, nan, nan, nan, nan, nan, nan, nan, nan, nan, nan, nan, nan,\n",
       "       nan, nan, nan, nan, nan, nan, nan, nan, nan, nan, nan, nan, nan,\n",
       "       nan, nan, nan, nan, nan, nan, nan, nan, nan, nan, nan, nan, nan,\n",
       "       nan, nan, nan, nan, nan, nan, nan, nan, nan, nan, nan, nan, nan,\n",
       "       nan, nan, nan, nan, nan, nan, nan, nan, nan, nan, nan, nan, nan,\n",
       "       nan, nan, nan, nan, nan, nan, nan, nan, nan, nan, nan, nan, nan,\n",
       "       nan, nan, nan, nan, nan, nan, nan, nan, nan, nan, nan, nan, nan,\n",
       "       nan, nan, nan, nan, nan, nan, nan, nan, nan])"
      ]
     },
     "execution_count": 100,
     "metadata": {},
     "output_type": "execute_result"
    }
   ],
   "source": [
    "right_side"
   ]
  },
  {
   "attachments": {},
   "cell_type": "markdown",
   "metadata": {},
   "source": [
    "Симетризованное ядро интегрального уравнения"
   ]
  },
  {
   "cell_type": "code",
   "execution_count": 101,
   "metadata": {},
   "outputs": [],
   "source": [
    "def G_star_ts(t: float,s: float):\n",
    "    if s > t:\n",
    "        return (1 / (4 * (-np.exp(4) + 2 * np.exp(2) - 1))) * (np.exp(2 + t - s) * s - np.exp(2 + t - s) * t + np.exp(4 - t - s) * s + np.exp(4 - t - s) * t + np.exp(2 - t + s) * s - np.exp(2 - t + s) * t + np.exp(s + t) * s + np.exp(s + t) * t - np.exp(2 + s + t) * s - np.exp(2 + s + t) * t - np.exp(s - t) * s + np.exp(s - t) * t - np.exp(t + 4 - s) * s + np.exp(t + 4 - s) * t - np.exp(2 - t - s) * s - np.exp(2 - t - s) * t - np.exp(2 + t - s) + np.exp(4 - t - s) - 3 * np.exp(2 - t + s) - np.exp(s + t) + 3 * np.exp(2 + s + t) + np.exp(s - t) - np.exp(t + 4 - s) + np.exp(2 - t - s))\n",
    "    else:\n",
    "        return (1 / (4 * (np.exp(4) - 2 * np.exp(2) + 1))) * (np.exp(2 + t - s) * s - np.exp(2 + t - s) * t - np.exp(4 - t - s) * s - np.exp(4 - t - s) * t + np.exp(2 - t + s) * s - np.exp(2 - t + s) * t - np.exp(s + t) * s - np.exp(s + t) * t + np.exp(2 + s + t) * s + np.exp(2 + s + t) * t - np.exp(4 - t + s) * s + np.exp(4 - t + s) * t - np.exp(t - s) * s + np.exp(t - s) * t + np.exp(2 - t - s) * s + np.exp(2 - t - s) * t + 3 * np.exp(2 + t - s) - np.exp(4 - t - s) + np.exp(2 - t + s) + np.exp(s + t) - 3 * np.exp(2 + s + t) + np.exp(4 - t + s) - np.exp(t - s) - np.exp(2 - t - s))"
   ]
  },
  {
   "attachments": {},
   "cell_type": "markdown",
   "metadata": {},
   "source": [
    "Правая часть (как в первой лабораторной)"
   ]
  },
  {
   "cell_type": "code",
   "execution_count": 102,
   "metadata": {},
   "outputs": [],
   "source": [
    "def y_star(t: float):\n",
    "    return (1 / (4 * (np.exp(4) - 2 * np.exp(2) + 1))) * (np.sin(t) * np.exp(4) + np.sin(1) * t * np.exp(3 + t) + np.sin(1) * t * np.exp(3 - t) - np.sin(1) * t * np.exp(1 + t) - np.sin(1) * t * np.exp(1 - t) - np.sin(t) * 2 * np.exp(2) - np.sin(1) * 2 * np.exp(3 + t) + np.sin(1) * 2 * np.exp(3 - t) + np.sin(t))\n",
    "def y_star1(t: float):\n",
    "    return (1 / (-2 * np.exp(4) + 4 * np.exp(2) - 2)) * (np.sin(1) * (1 + t) * np.exp(-1 * t + 1) + np.sin(1) * (4 * np.exp(2) * t - 2 * np.exp(4) * t + t * np.exp(1 + t) - t * np.exp(3 - t) - t * np.exp(t + 3) - 2 * t - np.exp(1 + t) - 3 * np.exp(3 - t) + 3 * np.exp(t + 3)))"
   ]
  },
  {
   "attachments": {},
   "cell_type": "markdown",
   "metadata": {},
   "source": [
    "## Ход основного алгоритма"
   ]
  },
  {
   "cell_type": "code",
   "execution_count": 103,
   "metadata": {},
   "outputs": [],
   "source": [
    "for i in range(n):\n",
    "    right_side[i] = y_star(t[i]) - y_star1(t[i])\n",
    "    "
   ]
  },
  {
   "cell_type": "code",
   "execution_count": 104,
   "metadata": {},
   "outputs": [],
   "source": [
    "for i in range(1,n-1):\n",
    "    for j in range(n):\n",
    "        left_side[i,j] = h * A[j] * G_star_ts(t[i],s[j])"
   ]
  },
  {
   "cell_type": "code",
   "execution_count": 105,
   "metadata": {},
   "outputs": [],
   "source": [
    "for i in range(1,n-1):\n",
    "    left_side[i,i] = (alpha * q - (2 * alpha * p) / (h ** 2)) + h * G_star_ts(t[i],s[i]) * A[i]\n",
    "    left_side[i,i-1] = ((alpha * p) / (h ** 2)) + h * G_star_ts(t[i],s[i]) * A[i]\n",
    "    left_side[i,i+1] = ((alpha * p) / (h ** 2)) + h * G_star_ts(t[i],s[i]) * A[i]\n",
    "left_side[0,1:] = 0\n",
    "left_side[0,0] = 1\n",
    "left_side[-1,0:-1] = 0\n",
    "left_side[-1,-1] = 1\n",
    "right_side[0] = 0\n",
    "right_side[-1] = 0"
   ]
  },
  {
   "cell_type": "code",
   "execution_count": 106,
   "metadata": {},
   "outputs": [
    {
     "data": {
      "text/plain": [
       "array([0.00000000e+00, 1.59702705e-05, 3.19251272e-05, 4.78491698e-05,\n",
       "       6.37270247e-05, 7.95433582e-05, 9.52828900e-05, 1.10930406e-04,\n",
       "       1.26470774e-04, 1.41888951e-04, 1.57170004e-04, 1.72299117e-04,\n",
       "       1.87261606e-04, 2.02042935e-04, 2.16628724e-04, 2.31004762e-04,\n",
       "       2.45157025e-04, 2.59071682e-04, 2.72735112e-04, 2.86133915e-04,\n",
       "       2.99254922e-04, 3.12085209e-04, 3.24612111e-04, 3.36823230e-04,\n",
       "       3.48706445e-04, 3.60249932e-04, 3.71442164e-04, 3.82271931e-04,\n",
       "       3.92728346e-04, 4.02800856e-04, 4.12479254e-04, 4.21753689e-04,\n",
       "       4.30614675e-04, 4.39053100e-04, 4.47060236e-04, 4.54627750e-04,\n",
       "       4.61747712e-04, 4.68412602e-04, 4.74615318e-04, 4.80349189e-04,\n",
       "       4.85607977e-04, 4.90385888e-04, 4.94677576e-04, 4.98478155e-04,\n",
       "       5.01783200e-04, 5.04588758e-04, 5.06891347e-04, 5.08687971e-04,\n",
       "       5.09976118e-04, 5.10753765e-04, 5.11019388e-04, 5.10771957e-04,\n",
       "       5.10010950e-04, 5.08736348e-04, 5.06948641e-04, 5.04648830e-04,\n",
       "       5.01838429e-04, 4.98519467e-04, 4.94694488e-04, 4.90366551e-04,\n",
       "       4.85539232e-04, 4.80216623e-04, 4.74403330e-04, 4.68104473e-04,\n",
       "       4.61325682e-04, 4.54073099e-04, 4.46353369e-04, 4.38173642e-04,\n",
       "       4.29541567e-04, 4.20465285e-04, 4.10953428e-04, 4.01015112e-04,\n",
       "       3.90659929e-04, 3.79897943e-04, 3.68739678e-04, 3.57196116e-04,\n",
       "       3.45278685e-04, 3.32999250e-04, 3.20370101e-04, 3.07403947e-04,\n",
       "       2.94113902e-04, 2.80513473e-04, 2.66616549e-04, 2.52437385e-04,\n",
       "       2.37990592e-04, 2.23291118e-04, 2.08354236e-04, 1.93195525e-04,\n",
       "       1.77830859e-04, 1.62276380e-04, 1.46548488e-04, 1.30663819e-04,\n",
       "       1.14639223e-04, 9.84917468e-05, 8.22386102e-05, 6.58971845e-05,\n",
       "       4.94849695e-05, 3.30195691e-05, 1.65186668e-05, 0.00000000e+00])"
      ]
     },
     "execution_count": 106,
     "metadata": {},
     "output_type": "execute_result"
    }
   ],
   "source": [
    "right_side"
   ]
  },
  {
   "cell_type": "code",
   "execution_count": 107,
   "metadata": {},
   "outputs": [
    {
     "data": {
      "text/plain": [
       "array([[ 1.00000000e+00,  0.00000000e+00,  0.00000000e+00, ...,\n",
       "         0.00000000e+00,  0.00000000e+00,  0.00000000e+00],\n",
       "       [ 9.80129662e-03, -1.96007034e-02,  9.80129662e-03, ...,\n",
       "         2.74395150e-07,  1.37235315e-07,  3.84618056e-19],\n",
       "       [ 8.24181548e-20,  9.80215938e-03, -1.95998406e-02, ...,\n",
       "         5.48639325e-07,  2.74395150e-07,  1.92309028e-19],\n",
       "       ...,\n",
       "       [-1.23627232e-19,  2.74395150e-07,  5.48639325e-07, ...,\n",
       "        -1.95998406e-02,  9.80215938e-03,  1.78572669e-19],\n",
       "       [ 2.47254464e-19,  1.37235315e-07,  2.74395150e-07, ...,\n",
       "         9.80129662e-03, -1.96007034e-02,  9.80129662e-03],\n",
       "       [ 0.00000000e+00,  0.00000000e+00,  0.00000000e+00, ...,\n",
       "         0.00000000e+00,  0.00000000e+00,  1.00000000e+00]])"
      ]
     },
     "execution_count": 107,
     "metadata": {},
     "output_type": "execute_result"
    }
   ],
   "source": [
    "left_side"
   ]
  },
  {
   "cell_type": "code",
   "execution_count": 108,
   "metadata": {},
   "outputs": [],
   "source": [
    "\n",
    "qq = np.linalg.solve(left_side,right_side) + t * np.sin(1)"
   ]
  },
  {
   "attachments": {},
   "cell_type": "markdown",
   "metadata": {},
   "source": [
    "## Построение графиков"
   ]
  },
  {
   "cell_type": "code",
   "execution_count": 109,
   "metadata": {},
   "outputs": [
    {
     "data": {
      "text/plain": [
       "<matplotlib.legend.Legend at 0x1f2d802b2d0>"
      ]
     },
     "execution_count": 109,
     "metadata": {},
     "output_type": "execute_result"
    },
    {
     "data": {
      "image/png": "[encoded data removed]",
      "text/plain": [
       "<Figure size 800x600 with 1 Axes>"
      ]
     },
     "metadata": {},
     "output_type": "display_data"
    }
   ],
   "source": [
    "plt.figure(figsize=(8, 6))\n",
    "plt.title(f'Решение без границ(обрезанное) на сетке размером:{n}, с значением alpha:{alpha}')\n",
    "plt.plot(x[10:90],qq[10:90],label = 'численное решение',color = 'red')\n",
    "plt.plot(x[10:90],real_one[10:90],label = 'точное решение',color = 'blue')\n",
    "plt.grid(True)\n",
    "plt.legend()"
   ]
  },
  {
   "cell_type": "code",
   "execution_count": 60,
   "metadata": {},
   "outputs": [
    {
     "data": {
      "text/plain": [
       "<matplotlib.legend.Legend at 0x1f2d82a5110>"
      ]
     },
     "execution_count": 60,
     "metadata": {},
     "output_type": "execute_result"
    },
    {
     "data": {
      "image/png": "[encoded data removed]",
      "text/plain": [
       "<Figure size 800x600 with 1 Axes>"
      ]
     },
     "metadata": {},
     "output_type": "display_data"
    }
   ],
   "source": [
    "plt.figure(figsize=(8, 6))\n",
    "plt.title(f'Решение на сетке размером:{n}, с значением alpha:{alpha}')\n",
    "plt.plot(x,np.linalg.solve(left_side,right_side),label = 'численное решение',color = 'red')\n",
    "plt.plot(x,real_one,label = 'точное решение',color = 'blue')\n",
    "plt.grid(True)\n",
    "plt.legend()"
   ]
  },
  {
   "attachments": {},
   "cell_type": "markdown",
   "metadata": {},
   "source": [
    "# Анализ коэфициента альфа"
   ]
  },
  {
   "cell_type": "code",
   "execution_count": 490,
   "metadata": {},
   "outputs": [],
   "source": [
    "%reset -f"
   ]
  },
  {
   "cell_type": "code",
   "execution_count": 491,
   "metadata": {},
   "outputs": [],
   "source": [
    "import numpy as np\n",
    "import matplotlib.pyplot as plt"
   ]
  },
  {
   "cell_type": "code",
   "execution_count": 492,
   "metadata": {},
   "outputs": [],
   "source": [
    "a,b = 0,1\n",
    "n = 100\n",
    "t = np.linspace(a,b,n)\n",
    "s = np.linspace(a,b,n)\n",
    "x = np.linspace(a,b,n)\n",
    "alpha = 0.0012739009678923898\n",
    "eps = 0.01\n",
    "q = 1\n",
    "p = 0.5\n",
    "right_side = np.full(n,np.NAN)\n",
    "left_side = np.full((n,n),np.NAN)\n",
    "real_one = np.full(n,np.NAN)\n",
    "A = np.ones(n)\n",
    "A[0],A[n - 1] = 0.5,0.5\n",
    "h = (b - a) / (n - 1)"
   ]
  },
  {
   "cell_type": "code",
   "execution_count": 493,
   "metadata": {},
   "outputs": [],
   "source": [
    "for i in range(n):\n",
    "    real_one[i] = np.sin(x[i])"
   ]
  },
  {
   "cell_type": "code",
   "execution_count": 494,
   "metadata": {},
   "outputs": [],
   "source": [
    "def G_star_ts(t: float,s: float):\n",
    "    if s > t:\n",
    "        return (1 / (4 * (-np.exp(4) + 2 * np.exp(2) - 1))) * (np.exp(2 + t - s) * s - np.exp(2 + t - s) * t + np.exp(4 - t - s) * s + np.exp(4 - t - s) * t + np.exp(2 - t + s) * s - np.exp(2 - t + s) * t + np.exp(s + t) * s + np.exp(s + t) * t - np.exp(2 + s + t) * s - np.exp(2 + s + t) * t - np.exp(s - t) * s + np.exp(s - t) * t - np.exp(t + 4 - s) * s + np.exp(t + 4 - s) * t - np.exp(2 - t - s) * s - np.exp(2 - t - s) * t - np.exp(2 + t - s) + np.exp(4 - t - s) - 3 * np.exp(2 - t + s) - np.exp(s + t) + 3 * np.exp(2 + s + t) + np.exp(s - t) - np.exp(t + 4 - s) + np.exp(2 - t - s))\n",
    "    else:\n",
    "        return (1 / (4 * (np.exp(4) - 2 * np.exp(2) + 1))) * (np.exp(2 + t - s) * s - np.exp(2 + t - s) * t - np.exp(4 - t - s) * s - np.exp(4 - t - s) * t + np.exp(2 - t + s) * s - np.exp(2 - t + s) * t - np.exp(s + t) * s - np.exp(s + t) * t + np.exp(2 + s + t) * s + np.exp(2 + s + t) * t - np.exp(4 - t + s) * s + np.exp(4 - t + s) * t - np.exp(t - s) * s + np.exp(t - s) * t + np.exp(2 - t - s) * s + np.exp(2 - t - s) * t + 3 * np.exp(2 + t - s) - np.exp(4 - t - s) + np.exp(2 - t + s) + np.exp(s + t) - 3 * np.exp(2 + s + t) + np.exp(4 - t + s) - np.exp(t - s) - np.exp(2 - t - s))"
   ]
  },
  {
   "cell_type": "code",
   "execution_count": 495,
   "metadata": {},
   "outputs": [],
   "source": [
    "# def y_star(t: float):\n",
    "    # return (1 / (4 * (np.exp(4) - 2 * np.exp(2) + 1))) * (np.sin(t) * np.exp(4) + np.sin(1) * t * np.exp(3 + t) + np.sin(1) * t * np.exp(3 - t) - np.sin(1) * t * np.exp(1 + t) - np.sin(1) * t * np.exp(1 - t) - np.sin(t) * 2 * np.exp(2) - np.sin(1) * 2 * np.exp(3 + t) + np.sin(1) * 2 * np.exp(3 - t) + np.sin(t))\n",
    "def y_star1(t: float):\n",
    "    return (1 / (-2 * np.exp(4) + 4 * np.exp(2) - 2)) * (np.sin(1) * (1 + t) * np.exp(-1 * t + 1) + np.sin(1) * (4 * np.exp(2) * t - 2 * np.exp(4) * t + t * np.exp(1 + t) - t * np.exp(3 - t) - t * np.exp(t + 3) - 2 * t - np.exp(1 + t) - 3 * np.exp(3 - t) + 3 * np.exp(t + 3)))"
   ]
  },
  {
   "cell_type": "code",
   "execution_count": 496,
   "metadata": {},
   "outputs": [],
   "source": [
    "def phi(s: float) -> float:\n",
    "    # return ((1/2) * (np.exp(s-1) - np.exp(-s + 1))) * np.exp(1) / (np.exp(s) * np.exp(-s+1) - np.exp(-s) * np.exp(s-1))\n",
    "        return ((0.5) * (np.exp(s-1) - np.exp(-s + 1)) * np.exp(1)) / (np.exp(2) - 1)\n",
    "\n",
    "def theta(s: float) -> float:\n",
    "    # return ((1/2) * (np.exp(s) - np.exp(-s))) / (np.exp(s) * np.exp(-s+1) - np.exp(-s) * np.exp(s-1))\n",
    "    return ((0.5) * (np.exp(s) - np.exp(-s)) * np.exp(1)) / (np.exp(2) - 1)\n",
    "\n",
    "def y(x: float,eps: float) -> float:\n",
    "    return (1 + eps * (2 * np.random.uniform(0,1,1)[0] - 1)) * (-0.5 * (np.sin(x) * np.exp(2) + np.sin(1) * np.exp(-x + 1) - np.sin(1) * np.exp(x + 1) - np.sin(x))) / (np.exp(2) - 1)\n",
    "    # return (-0.5 * (np.sin(x) * np.exp(2) + np.sin(1) * np.exp(-x + 1) - np.sin(1) * np.exp(x + 1) - np.sin(x))) / (np.exp(2) - 1)\n",
    "    # return (1 + eps * (2 * np.random.uniform(0,1,1)[0] - 1)) * (-0.5 * (np.sin(x) * np.exp(2) + np.sin(1) * np.exp(-x + 1) - np.sin(1) * np.exp(x + 1) - np.sin(x))) / (np.exp(2) - 1)\n",
    "# def y(x: float,eps: float) -> float:\n",
    "    # return (1 + eps * (2 * np.random.uniform(0,1,1)[0] - 1)) * (-0.5 * (np.sin(x) * np.exp(2) + np.sin(1) * np.exp(-x + 1) - np.sin(1) * np.exp(x + 1) - np.sin(x))) / (np.exp(2) - 1)\n",
    "\n",
    "def y_star(t: float) -> float:\n",
    "    sum = 0\n",
    "    for i in range(1, n-1):\n",
    "        if x[i] < t:\n",
    "            sum += phi(t) * (np.exp(x[i]) - np.exp(-x[i])) * y(x[i],eps)\n",
    "            # sum += theta(t) * (np.exp(x[i] - 1) - np.exp(-x[i] + 1)) * y(x[i])\n",
    "        else:\n",
    "            # sum += phi(t) * (np.exp(x[i]) - np.exp(-x[i])) * y(x[i])\n",
    "            sum += theta(t) * (np.exp(x[i] - 1) - np.exp(-x[i] + 1)) * y(x[i],eps)\n",
    "    sum *= 2\n",
    "    sum += phi(t) * (np.exp(x[0]) - np.exp(-x[0])) * y(x[0],eps) + \\\n",
    "        theta(t) * (np.exp(x[n-1] - 1) - np.exp(-x[n-1] + 1)) * y(x[n-1],eps)\n",
    "    return (h/2) * sum\n",
    "\n",
    "for i in range(n):\n",
    "    # right_side[i] = y_star(t[i]) - y_star1(t[i])\n",
    "    right_side[i] = y_star(t[i]) - y_star1(t[i])"
   ]
  },
  {
   "cell_type": "code",
   "execution_count": 497,
   "metadata": {},
   "outputs": [],
   "source": [
    "for i in range(1,n-1):\n",
    "    for j in range(n):\n",
    "        left_side[i,j] = h * A[j] * G_star_ts(t[i],s[j])"
   ]
  },
  {
   "cell_type": "code",
   "execution_count": 498,
   "metadata": {},
   "outputs": [],
   "source": [
    "for i in range(1,n-1):\n",
    "    left_side[i,i] = (alpha * q - (2 * alpha * p) / (h ** 2)) + h * G_star_ts(t[i],s[i]) * A[i]\n",
    "    left_side[i,i-1] = ((alpha * p) / (h ** 2)) + h * G_star_ts(t[i],s[i]) * A[i]\n",
    "    left_side[i,i+1] = ((alpha * p) / (h ** 2)) + h * G_star_ts(t[i],s[i]) * A[i]\n",
    "left_side[0,1:] = 0\n",
    "left_side[0,0] = 1\n",
    "left_side[-1,0:-1] = 0\n",
    "left_side[-1,-1] = 1\n",
    "right_side[0] = 0\n",
    "right_side[-1] = 0"
   ]
  },
  {
   "cell_type": "code",
   "execution_count": 499,
   "metadata": {},
   "outputs": [],
   "source": [
    "qq = np.linalg.solve(left_side,right_side) + t * np.sin(1)\n",
    "# qq = np.linalg.solve(left_side,right_side) "
   ]
  },
  {
   "cell_type": "code",
   "execution_count": 500,
   "metadata": {},
   "outputs": [
    {
     "data": {
      "text/plain": [
       "array([0.        , 0.01010101, 0.02020202, 0.03030303, 0.04040404,\n",
       "       0.05050505, 0.06060606, 0.07070707, 0.08080808, 0.09090909,\n",
       "       0.1010101 , 0.11111111, 0.12121212, 0.13131313, 0.14141414,\n",
       "       0.15151515, 0.16161616, 0.17171717, 0.18181818, 0.19191919,\n",
       "       0.2020202 , 0.21212121, 0.22222222, 0.23232323, 0.24242424,\n",
       "       0.25252525, 0.26262626, 0.27272727, 0.28282828, 0.29292929,\n",
       "       0.3030303 , 0.31313131, 0.32323232, 0.33333333, 0.34343434,\n",
       "       0.35353535, 0.36363636, 0.37373737, 0.38383838, 0.39393939,\n",
       "       0.4040404 , 0.41414141, 0.42424242, 0.43434343, 0.44444444,\n",
       "       0.45454545, 0.46464646, 0.47474747, 0.48484848, 0.49494949,\n",
       "       0.50505051, 0.51515152, 0.52525253, 0.53535354, 0.54545455,\n",
       "       0.55555556, 0.56565657, 0.57575758, 0.58585859, 0.5959596 ,\n",
       "       0.60606061, 0.61616162, 0.62626263, 0.63636364, 0.64646465,\n",
       "       0.65656566, 0.66666667, 0.67676768, 0.68686869, 0.6969697 ,\n",
       "       0.70707071, 0.71717172, 0.72727273, 0.73737374, 0.74747475,\n",
       "       0.75757576, 0.76767677, 0.77777778, 0.78787879, 0.7979798 ,\n",
       "       0.80808081, 0.81818182, 0.82828283, 0.83838384, 0.84848485,\n",
       "       0.85858586, 0.86868687, 0.87878788, 0.88888889, 0.8989899 ,\n",
       "       0.90909091, 0.91919192, 0.92929293, 0.93939394, 0.94949495,\n",
       "       0.95959596, 0.96969697, 0.97979798, 0.98989899, 1.        ])"
      ]
     },
     "execution_count": 500,
     "metadata": {},
     "output_type": "execute_result"
    }
   ],
   "source": [
    "t"
   ]
  },
  {
   "cell_type": "code",
   "execution_count": 501,
   "metadata": {},
   "outputs": [
    {
     "data": {
      "text/plain": [
       "array([0.        , 0.00849971, 0.01699941, 0.02549912, 0.03399883,\n",
       "       0.04249853, 0.05099824, 0.05949795, 0.06799766, 0.07649736,\n",
       "       0.08499707, 0.09349678, 0.10199648, 0.11049619, 0.1189959 ,\n",
       "       0.1274956 , 0.13599531, 0.14449502, 0.15299472, 0.16149443,\n",
       "       0.16999414, 0.17849385, 0.18699355, 0.19549326, 0.20399297,\n",
       "       0.21249267, 0.22099238, 0.22949209, 0.23799179, 0.2464915 ,\n",
       "       0.25499121, 0.26349091, 0.27199062, 0.28049033, 0.28899004,\n",
       "       0.29748974, 0.30598945, 0.31448916, 0.32298886, 0.33148857,\n",
       "       0.33998828, 0.34848798, 0.35698769, 0.3654874 , 0.3739871 ,\n",
       "       0.38248681, 0.39098652, 0.39948623, 0.40798593, 0.41648564,\n",
       "       0.42498535, 0.43348505, 0.44198476, 0.45048447, 0.45898417,\n",
       "       0.46748388, 0.47598359, 0.48448329, 0.492983  , 0.50148271,\n",
       "       0.50998242, 0.51848212, 0.52698183, 0.53548154, 0.54398124,\n",
       "       0.55248095, 0.56098066, 0.56948036, 0.57798007, 0.58647978,\n",
       "       0.59497948, 0.60347919, 0.6119789 , 0.6204786 , 0.62897831,\n",
       "       0.63747802, 0.64597773, 0.65447743, 0.66297714, 0.67147685,\n",
       "       0.67997655, 0.68847626, 0.69697597, 0.70547567, 0.71397538,\n",
       "       0.72247509, 0.73097479, 0.7394745 , 0.74797421, 0.75647392,\n",
       "       0.76497362, 0.77347333, 0.78197304, 0.79047274, 0.79897245,\n",
       "       0.80747216, 0.81597186, 0.82447157, 0.83297128, 0.84147098])"
      ]
     },
     "execution_count": 501,
     "metadata": {},
     "output_type": "execute_result"
    }
   ],
   "source": [
    "t * np.sin(1)"
   ]
  },
  {
   "cell_type": "code",
   "execution_count": 502,
   "metadata": {},
   "outputs": [
    {
     "data": {
      "text/plain": [
       "0.8414709848078965"
      ]
     },
     "execution_count": 502,
     "metadata": {},
     "output_type": "execute_result"
    }
   ],
   "source": [
    "real_one[n-1]"
   ]
  },
  {
   "cell_type": "code",
   "execution_count": 503,
   "metadata": {},
   "outputs": [
    {
     "data": {
      "text/plain": [
       "0.8414709848078965"
      ]
     },
     "execution_count": 503,
     "metadata": {},
     "output_type": "execute_result"
    }
   ],
   "source": [
    "(t * np.sin(1))[n-1]"
   ]
  },
  {
   "cell_type": "code",
   "execution_count": 504,
   "metadata": {},
   "outputs": [
    {
     "data": {
      "text/plain": [
       "0.0"
      ]
     },
     "execution_count": 504,
     "metadata": {},
     "output_type": "execute_result"
    }
   ],
   "source": [
    "real_one[n-1] - (t * np.sin(1))[n-1]"
   ]
  },
  {
   "cell_type": "code",
   "execution_count": 505,
   "metadata": {},
   "outputs": [
    {
     "data": {
      "text/plain": [
       "<matplotlib.legend.Legend at 0x1f2e37983d0>"
      ]
     },
     "execution_count": 505,
     "metadata": {},
     "output_type": "execute_result"
    },
    {
     "data": {
      "image/png": "[encoded data removed]",
      "text/plain": [
       "<Figure size 800x600 with 1 Axes>"
      ]
     },
     "metadata": {},
     "output_type": "display_data"
    }
   ],
   "source": [
    "plt.figure(figsize=(8, 6))\n",
    "plt.title(f'Решение без границ(обрезанное) на сетке размером:{n}, с значением alpha:{alpha}')\n",
    "plt.plot(x,qq,label = 'численное решение',color = 'red')\n",
    "plt.plot(x,real_one,label = 'точное решение',color = 'blue')\n",
    "plt.grid(True)\n",
    "plt.legend()"
   ]
  },
  {
   "cell_type": "code",
   "execution_count": 537,
   "metadata": {},
   "outputs": [],
   "source": [
    "%reset -f\n",
    "import numpy as np\n",
    "import matplotlib.pyplot as plt\n",
    "from scipy.optimize import minimize"
   ]
  },
  {
   "cell_type": "code",
   "execution_count": 538,
   "metadata": {},
   "outputs": [],
   "source": [
    "def test(alpha: float):\n",
    "    a,b = 0,1\n",
    "    n = 100\n",
    "    t = np.linspace(a,b,n)\n",
    "    s = np.linspace(a,b,n)\n",
    "    x = np.linspace(a,b,n)\n",
    "    right_side = np.full(n,np.NAN)\n",
    "    left_side = np.full((n,n),np.NAN)\n",
    "    real_one = np.full(n,np.NAN)\n",
    "    A = np.ones(n)\n",
    "    A[0],A[n - 1] = 0.5,0.5\n",
    "    h = (b - a) / (n - 1)\n",
    "    np.random.seed(42)\n",
    "    eps = 0.1\n",
    "    q = 1\n",
    "    p = 1\n",
    "\n",
    "    for i in range(n):\n",
    "        real_one[i] = np.sin(x[i])\n",
    "    \n",
    "    def G_star_ts(t: float,s: float):\n",
    "        if s > t:\n",
    "            return (1 / (4 * (-np.exp(4) + 2 * np.exp(2) - 1))) * (np.exp(2 + t - s) * s - np.exp(2 + t - s) * t + np.exp(4 - t - s) * s + np.exp(4 - t - s) * t + np.exp(2 - t + s) * s - np.exp(2 - t + s) * t + np.exp(s + t) * s + np.exp(s + t) * t - np.exp(2 + s + t) * s - np.exp(2 + s + t) * t - np.exp(s - t) * s + np.exp(s - t) * t - np.exp(t + 4 - s) * s + np.exp(t + 4 - s) * t - np.exp(2 - t - s) * s - np.exp(2 - t - s) * t - np.exp(2 + t - s) + np.exp(4 - t - s) - 3 * np.exp(2 - t + s) - np.exp(s + t) + 3 * np.exp(2 + s + t) + np.exp(s - t) - np.exp(t + 4 - s) + np.exp(2 - t - s))\n",
    "        else:\n",
    "            return (1 / (4 * (np.exp(4) - 2 * np.exp(2) + 1))) * (np.exp(2 + t - s) * s - np.exp(2 + t - s) * t - np.exp(4 - t - s) * s - np.exp(4 - t - s) * t + np.exp(2 - t + s) * s - np.exp(2 - t + s) * t - np.exp(s + t) * s - np.exp(s + t) * t + np.exp(2 + s + t) * s + np.exp(2 + s + t) * t - np.exp(4 - t + s) * s + np.exp(4 - t + s) * t - np.exp(t - s) * s + np.exp(t - s) * t + np.exp(2 - t - s) * s + np.exp(2 - t - s) * t + 3 * np.exp(2 + t - s) - np.exp(4 - t - s) + np.exp(2 - t + s) + np.exp(s + t) - 3 * np.exp(2 + s + t) + np.exp(4 - t + s) - np.exp(t - s) - np.exp(2 - t - s))\n",
    "    \n",
    "    def phi(s: float) -> float:\n",
    "    # return ((1/2) * (np.exp(s-1) - np.exp(-s + 1))) * np.exp(1) / (np.exp(s) * np.exp(-s+1) - np.exp(-s) * np.exp(s-1))\n",
    "        return ((0.5) * (np.exp(s-1) - np.exp(-s + 1)) * np.exp(1)) / (np.exp(2) - 1)\n",
    "\n",
    "    def theta(s: float) -> float:\n",
    "    # return ((1/2) * (np.exp(s) - np.exp(-s))) / (np.exp(s) * np.exp(-s+1) - np.exp(-s) * np.exp(s-1))\n",
    "        return ((0.5) * (np.exp(s) - np.exp(-s)) * np.exp(1)) / (np.exp(2) - 1)\n",
    "\n",
    "    def y(x: float,eps: float) -> float:\n",
    "        return (1 + eps * (2 * np.random.uniform(0,1,1)[0] - 1)) * (-0.5 * (np.sin(x) * np.exp(2) + np.sin(1) * np.exp(-x + 1) - np.sin(1) * np.exp(x + 1) - np.sin(x))) / (np.exp(2) - 1)\n",
    "    \n",
    "    def y_star1(t: float):\n",
    "        return (1 / (-2 * np.exp(4) + 4 * np.exp(2) - 2)) * (np.sin(1) * (1 + t) * np.exp(-1 * t + 1) + np.sin(1) * (4 * np.exp(2) * t - 2 * np.exp(4) * t + t * np.exp(1 + t) - t * np.exp(3 - t) - t * np.exp(t + 3) - 2 * t - np.exp(1 + t) - 3 * np.exp(3 - t) + 3 * np.exp(t + 3)))\n",
    "    \n",
    "    def y_star(t: float) -> float:\n",
    "        sum = 0\n",
    "        for i in range(1, n-1):\n",
    "            if x[i] < t:\n",
    "                sum += phi(t) * (np.exp(x[i]) - np.exp(-x[i])) * y(x[i],eps)\n",
    "                # sum += theta(t) * (np.exp(x[i] - 1) - np.exp(-x[i] + 1)) * y(x[i])\n",
    "            else:\n",
    "                # sum += phi(t) * (np.exp(x[i]) - np.exp(-x[i])) * y(x[i])\n",
    "                sum += theta(t) * (np.exp(x[i] - 1) - np.exp(-x[i] + 1)) * y(x[i],eps)\n",
    "        sum *= 2\n",
    "        sum += phi(t) * (np.exp(x[0]) - np.exp(-x[0])) * y(x[0],eps) + \\\n",
    "            theta(t) * (np.exp(x[n-1] - 1) - np.exp(-x[n-1] + 1)) * y(x[n-1],eps)\n",
    "        return (h/2) * sum\n",
    "\n",
    "    for i in range(n):\n",
    "        right_side[i] = y_star(t[i]) - y_star1(t[i])\n",
    "\n",
    "    for i in range(1,n-1):\n",
    "        for j in range(n):\n",
    "            left_side[i,j] = h * A[j] * G_star_ts(t[i],s[j])\n",
    "\n",
    "    for i in range(1,n-1):\n",
    "        left_side[i,i] = (alpha * q - (2 * alpha * p) / (h ** 2)) + h * G_star_ts(t[i],s[i]) * A[i]\n",
    "        left_side[i,i-1] = ((alpha * p) / (h ** 2)) + h * G_star_ts(t[i],s[i]) * A[i]\n",
    "        left_side[i,i+1] = ((alpha * p) / (h ** 2)) + h * G_star_ts(t[i],s[i]) * A[i]\n",
    "    left_side[0,1:] = 0\n",
    "    left_side[0,0] = 1\n",
    "    left_side[-1,0:-1] = 0\n",
    "    left_side[-1,-1] = 1\n",
    "    right_side[0] = 0\n",
    "    right_side[-1] = 0\n",
    "\n",
    "    def norma_L2(f: np.ndarray):\n",
    "        sum = 0\n",
    "        for i in range(1, n-1):\n",
    "            sum += (np.abs(f[i]) ** 2)\n",
    "        sum *= 2\n",
    "        sum += (np.abs(f[0]) ** 2) + (np.abs(f[n-1]) ** 2)\n",
    "        return np.sqrt((h/2) * sum)\n",
    "\n",
    "    qq = np.linalg.solve(left_side,right_side) + t * np.sin(1)\n",
    "    # return np.abs(norma_L2(np.linalg.solve(left_side,right_side)) - 1.05 * R)\n",
    "    return np.abs(norma_L2(qq - real_one))"
   ]
  },
  {
   "cell_type": "code",
   "execution_count": 539,
   "metadata": {},
   "outputs": [
    {
     "name": "stdout",
     "output_type": "stream",
     "text": [
      "Optimization terminated successfully.\n",
      "         Current function value: 0.001272\n",
      "         Iterations: 10\n",
      "         Function evaluations: 20\n"
     ]
    }
   ],
   "source": [
    "res = minimize(test, 1e-5, method='nelder-mead', options={'xatol': 1e-5, 'disp': True})"
   ]
  },
  {
   "cell_type": "code",
   "execution_count": 540,
   "metadata": {},
   "outputs": [
    {
     "data": {
      "text/plain": [
       "       message: Optimization terminated successfully.\n",
       "       success: True\n",
       "        status: 0\n",
       "           fun: 0.0012724513343057122\n",
       "             x: [ 1.500e-05]\n",
       "           nit: 10\n",
       "          nfev: 20\n",
       " final_simplex: (array([[ 1.500e-05],\n",
       "                       [ 1.506e-05]]), array([ 1.272e-03,  1.274e-03]))"
      ]
     },
     "execution_count": 540,
     "metadata": {},
     "output_type": "execute_result"
    }
   ],
   "source": [
    "res"
   ]
  },
  {
   "cell_type": "code",
   "execution_count": 541,
   "metadata": {},
   "outputs": [
    {
     "data": {
      "text/plain": [
       "1.5000000000000012e-05"
      ]
     },
     "execution_count": 541,
     "metadata": {},
     "output_type": "execute_result"
    }
   ],
   "source": [
    "res.x[0]"
   ]
  },
  {
   "cell_type": "code",
   "execution_count": 543,
   "metadata": {},
   "outputs": [],
   "source": [
    "import pandas as pd\n",
    "\n",
    "# Создаем пустой датафрейм\n",
    "df = pd.DataFrame(index=['alpha_opt', 'delta'], columns=['eps=0.001 p=0.001', 'eps=0.001 p=0.5', 'eps=0.001 p=1',  'eps=0.01 p=0.001', 'eps=0.01 p=0.5', 'eps=0.01 p=1', 'eps=0.05 p=0.001', 'eps=0.05 p=0.5', 'eps=0.05 p=1', 'eps=0.1 p=0.001', 'eps=0.1 p=0.5', 'eps=0.1 p=1'])\n"
   ]
  },
  {
   "cell_type": "code",
   "execution_count": 544,
   "metadata": {},
   "outputs": [
    {
     "data": {
      "text/html": [
       "<div>\n",
       "<style scoped>\n",
       "    .dataframe tbody tr th:only-of-type {\n",
       "        vertical-align: middle;\n",
       "    }\n",
       "\n",
       "    .dataframe tbody tr th {\n",
       "        vertical-align: top;\n",
       "    }\n",
       "\n",
       "    .dataframe thead th {\n",
       "        text-align: right;\n",
       "    }\n",
       "</style>\n",
       "<table border=\"1\" class=\"dataframe\">\n",
       "  <thead>\n",
       "    <tr style=\"text-align: right;\">\n",
       "      <th></th>\n",
       "      <th>eps=0.001 p=0.001</th>\n",
       "      <th>eps=0.001 p=0.5</th>\n",
       "      <th>eps=0.001 p=1</th>\n",
       "      <th>eps=0.01 p=0.001</th>\n",
       "      <th>eps=0.01 p=0.5</th>\n",
       "      <th>eps=0.01 p=1</th>\n",
       "      <th>eps=0.05 p=0.001</th>\n",
       "      <th>eps=0.05 p=0.5</th>\n",
       "      <th>eps=0.05 p=1</th>\n",
       "      <th>eps=0.1 p=0.001</th>\n",
       "      <th>eps=0.1 p=0.5</th>\n",
       "      <th>eps=0.1 p=1</th>\n",
       "    </tr>\n",
       "  </thead>\n",
       "  <tbody>\n",
       "    <tr>\n",
       "      <th>alpha_opt</th>\n",
       "      <td>NaN</td>\n",
       "      <td>NaN</td>\n",
       "      <td>NaN</td>\n",
       "      <td>NaN</td>\n",
       "      <td>NaN</td>\n",
       "      <td>NaN</td>\n",
       "      <td>NaN</td>\n",
       "      <td>NaN</td>\n",
       "      <td>NaN</td>\n",
       "      <td>NaN</td>\n",
       "      <td>NaN</td>\n",
       "      <td>NaN</td>\n",
       "    </tr>\n",
       "    <tr>\n",
       "      <th>delta</th>\n",
       "      <td>NaN</td>\n",
       "      <td>NaN</td>\n",
       "      <td>NaN</td>\n",
       "      <td>NaN</td>\n",
       "      <td>NaN</td>\n",
       "      <td>NaN</td>\n",
       "      <td>NaN</td>\n",
       "      <td>NaN</td>\n",
       "      <td>NaN</td>\n",
       "      <td>NaN</td>\n",
       "      <td>NaN</td>\n",
       "      <td>NaN</td>\n",
       "    </tr>\n",
       "  </tbody>\n",
       "</table>\n",
       "</div>"
      ],
      "text/plain": [
       "          eps=0.001 p=0.001 eps=0.001 p=0.5 eps=0.001 p=1 eps=0.01 p=0.001  \\\n",
       "alpha_opt               NaN             NaN           NaN              NaN   \n",
       "delta                   NaN             NaN           NaN              NaN   \n",
       "\n",
       "          eps=0.01 p=0.5 eps=0.01 p=1 eps=0.05 p=0.001 eps=0.05 p=0.5  \\\n",
       "alpha_opt            NaN          NaN              NaN            NaN   \n",
       "delta                NaN          NaN              NaN            NaN   \n",
       "\n",
       "          eps=0.05 p=1 eps=0.1 p=0.001 eps=0.1 p=0.5 eps=0.1 p=1  \n",
       "alpha_opt          NaN             NaN           NaN         NaN  \n",
       "delta              NaN             NaN           NaN         NaN  "
      ]
     },
     "execution_count": 544,
     "metadata": {},
     "output_type": "execute_result"
    }
   ],
   "source": [
    "df"
   ]
  },
  {
   "cell_type": "code",
   "execution_count": 551,
   "metadata": {},
   "outputs": [],
   "source": [
    "df.iat[0, 0] = 0.00013750000000000025\n",
    "df.iat[0, 1] = 1e-05\n",
    "df.iat[0, 2] = -4.999999999999876e-07\n",
    "df.iat[0, 3] = 0.000569500000000001\n",
    "df.iat[0, 4] = 3.0000000000000085e-06\n",
    "df.iat[0, 5] = 2.0000000000000097e-06\n",
    "df.iat[0, 6] = 0.0014895000000000028\n",
    "df.iat[0, 7] = 1.6500000000000018e-05\n",
    "df.iat[0, 8] = 8.000000000000003e-06\n",
    "df.iat[0, 9] = 0.002265500000000004\n",
    "df.iat[0, 10] = 3.075000000000005e-05\n",
    "df.iat[0, 11] = 1.5000000000000012e-05"
   ]
  },
  {
   "cell_type": "code",
   "execution_count": 552,
   "metadata": {},
   "outputs": [],
   "source": [
    "df.iat[1, 0] = 0.0018808013451401665\n",
    "df.iat[1, 1] = 0.001032\n",
    "df.iat[1, 2] = 0.0007822817468400541\n",
    "df.iat[1, 3] = 0.005075320043532055\n",
    "df.iat[1, 4] = 0.0012739009678923898\n",
    "df.iat[1, 5] = 0.0015931411945457057\n",
    "df.iat[1, 6] = 0.009921516035213455\n",
    "df.iat[1, 7] = 0.0011513465227797654\n",
    "df.iat[1, 8] = 0.0011768455793910607\n",
    "df.iat[1, 9] = 0.013197261689333556\n",
    "df.iat[1, 10] = 0.0012489081894717974\n",
    "df.iat[1, 11] = 0.0012724513343057122"
   ]
  },
  {
   "cell_type": "code",
   "execution_count": 553,
   "metadata": {},
   "outputs": [
    {
     "data": {
      "text/html": [
       "<div>\n",
       "<style scoped>\n",
       "    .dataframe tbody tr th:only-of-type {\n",
       "        vertical-align: middle;\n",
       "    }\n",
       "\n",
       "    .dataframe tbody tr th {\n",
       "        vertical-align: top;\n",
       "    }\n",
       "\n",
       "    .dataframe thead th {\n",
       "        text-align: right;\n",
       "    }\n",
       "</style>\n",
       "<table border=\"1\" class=\"dataframe\">\n",
       "  <thead>\n",
       "    <tr style=\"text-align: right;\">\n",
       "      <th></th>\n",
       "      <th>eps=0.001 p=0.001</th>\n",
       "      <th>eps=0.001 p=0.5</th>\n",
       "      <th>eps=0.001 p=1</th>\n",
       "      <th>eps=0.01 p=0.001</th>\n",
       "      <th>eps=0.01 p=0.5</th>\n",
       "      <th>eps=0.01 p=1</th>\n",
       "      <th>eps=0.05 p=0.001</th>\n",
       "      <th>eps=0.05 p=0.5</th>\n",
       "      <th>eps=0.05 p=1</th>\n",
       "      <th>eps=0.1 p=0.001</th>\n",
       "      <th>eps=0.1 p=0.5</th>\n",
       "      <th>eps=0.1 p=1</th>\n",
       "    </tr>\n",
       "  </thead>\n",
       "  <tbody>\n",
       "    <tr>\n",
       "      <th>alpha_opt</th>\n",
       "      <td>0.000138</td>\n",
       "      <td>0.00001</td>\n",
       "      <td>-0.0</td>\n",
       "      <td>0.00057</td>\n",
       "      <td>0.000003</td>\n",
       "      <td>0.000002</td>\n",
       "      <td>0.00149</td>\n",
       "      <td>0.000017</td>\n",
       "      <td>0.000008</td>\n",
       "      <td>0.002266</td>\n",
       "      <td>0.000031</td>\n",
       "      <td>0.000015</td>\n",
       "    </tr>\n",
       "    <tr>\n",
       "      <th>delta</th>\n",
       "      <td>0.001881</td>\n",
       "      <td>0.001032</td>\n",
       "      <td>0.000782</td>\n",
       "      <td>0.005075</td>\n",
       "      <td>0.001274</td>\n",
       "      <td>0.001593</td>\n",
       "      <td>0.009922</td>\n",
       "      <td>0.001151</td>\n",
       "      <td>0.001177</td>\n",
       "      <td>0.013197</td>\n",
       "      <td>0.001249</td>\n",
       "      <td>0.001272</td>\n",
       "    </tr>\n",
       "  </tbody>\n",
       "</table>\n",
       "</div>"
      ],
      "text/plain": [
       "          eps=0.001 p=0.001 eps=0.001 p=0.5 eps=0.001 p=1 eps=0.01 p=0.001  \\\n",
       "alpha_opt          0.000138         0.00001          -0.0          0.00057   \n",
       "delta              0.001881        0.001032      0.000782         0.005075   \n",
       "\n",
       "          eps=0.01 p=0.5 eps=0.01 p=1 eps=0.05 p=0.001 eps=0.05 p=0.5  \\\n",
       "alpha_opt       0.000003     0.000002          0.00149       0.000017   \n",
       "delta           0.001274     0.001593         0.009922       0.001151   \n",
       "\n",
       "          eps=0.05 p=1 eps=0.1 p=0.001 eps=0.1 p=0.5 eps=0.1 p=1  \n",
       "alpha_opt     0.000008        0.002266      0.000031    0.000015  \n",
       "delta         0.001177        0.013197      0.001249    0.001272  "
      ]
     },
     "execution_count": 553,
     "metadata": {},
     "output_type": "execute_result"
    }
   ],
   "source": [
    "df"
   ]
  },
  {
   "cell_type": "code",
   "execution_count": null,
   "metadata": {},
   "outputs": [],
   "source": []
  }
 ],
 "metadata": {
  "kernelspec": {
   "display_name": "Python 3",
   "language": "python",
   "name": "python3"
  },
  "language_info": {
   "codemirror_mode": {
    "name": "ipython",
    "version": 3
   },
   "file_extension": ".py",
   "mimetype": "text/x-python",
   "name": "python",
   "nbconvert_exporter": "python",
   "pygments_lexer": "ipython3",
   "version": "3.11.2"
  },
  "orig_nbformat": 4,
  "vscode": {
   "interpreter": {
    "hash": "c261aea317cc0286b3b3261fbba9abdec21eaa57589985bb7a274bf54d6cc0a7"
   }
  }
 },
 "nbformat": 4,
 "nbformat_minor": 2
}
