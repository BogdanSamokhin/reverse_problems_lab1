{
 "cells": [
  {
   "cell_type": "code",
   "execution_count": null,
   "metadata": {},
   "outputs": [],
   "source": [
    "import numpy as np\n",
    "import matplotlib.pyplot as plt"
   ]
  },
  {
   "attachments": {},
   "cell_type": "markdown",
   "metadata": {},
   "source": [
    "# Иницилизация"
   ]
  },
  {
   "cell_type": "code",
   "execution_count": null,
   "metadata": {},
   "outputs": [],
   "source": [
    "a,b = 0,1\n",
    "n = 100\n",
    "t = np.linspace(a,b,n)\n",
    "s = np.linspace(a,b,n)\n",
    "x = np.linspace(a,b,n)\n",
    "alpha = 1e-6\n",
    "right_side = np.full(n,np.NAN)\n",
    "left_side = np.full((n,n),np.NAN)\n",
    "real_one = np.full(n,np.NAN)\n",
    "A = np.ones(n)\n",
    "A[0],A[n - 1] = 0.5,0.5\n",
    "h = (b - a) / (n - 1)"
   ]
  },
  {
   "cell_type": "code",
   "execution_count": null,
   "metadata": {},
   "outputs": [],
   "source": [
    "for i in range(n):\n",
    "    real_one[i] = np.sin(x[i])"
   ]
  },
  {
   "cell_type": "code",
   "execution_count": null,
   "metadata": {},
   "outputs": [],
   "source": [
    "x"
   ]
  },
  {
   "cell_type": "code",
   "execution_count": null,
   "metadata": {},
   "outputs": [],
   "source": [
    "A"
   ]
  },
  {
   "cell_type": "code",
   "execution_count": null,
   "metadata": {},
   "outputs": [],
   "source": [
    "left_side"
   ]
  },
  {
   "cell_type": "code",
   "execution_count": null,
   "metadata": {},
   "outputs": [],
   "source": [
    "right_side"
   ]
  },
  {
   "attachments": {},
   "cell_type": "markdown",
   "metadata": {},
   "source": [
    "## Задание функций из Maple явно"
   ]
  },
  {
   "cell_type": "code",
   "execution_count": null,
   "metadata": {},
   "outputs": [],
   "source": [
    "def G_star_ts(t: float,s: float):\n",
    "    if s > t:\n",
    "        return (1 / (4 * (-np.exp(4) + 2 * np.exp(2) - 1))) * (np.exp(2 + t - s) * s - np.exp(2 + t - s) * t + np.exp(4 - t - s) * s + np.exp(4 - t - s) * t + np.exp(2 - t + s) * s - np.exp(2 - t + s) * t + np.exp(s + t) * s + np.exp(s + t) * t - np.exp(2 + s + t) * s - np.exp(2 + s + t) * t - np.exp(s - t) * s + np.exp(s - t) * t - np.exp(t + 4 - s) * s + np.exp(t + 4 - s) * t - np.exp(2 - t - s) * s - np.exp(2 - t - s) * t - np.exp(2 + t - s) + np.exp(4 - t - s) - 3 * np.exp(2 - t + s) - np.exp(s + t) + 3 * np.exp(2 + s + t) + np.exp(s - t) - np.exp(t + 4 - s) + np.exp(2 - t - s))\n",
    "    else:\n",
    "        return (1 / (4 * (np.exp(4) - 2 * np.exp(2) + 1))) * (np.exp(2 + t - s) * s - np.exp(2 + t - s) * t - np.exp(4 - t - s) * s - np.exp(4 - t - s) * t + np.exp(2 - t + s) * s - np.exp(2 - t + s) * t - np.exp(s + t) * s - np.exp(s + t) * t + np.exp(2 + s + t) * s + np.exp(2 + s + t) * t - np.exp(4 - t + s) * s + np.exp(4 - t + s) * t - np.exp(t - s) * s + np.exp(t - s) * t + np.exp(2 - t - s) * s + np.exp(2 - t - s) * t + 3 * np.exp(2 + t - s) - np.exp(4 - t - s) + np.exp(2 - t + s) + np.exp(s + t) - 3 * np.exp(2 + s + t) + np.exp(4 - t + s) - np.exp(t - s) - np.exp(2 - t - s))"
   ]
  },
  {
   "cell_type": "code",
   "execution_count": null,
   "metadata": {},
   "outputs": [],
   "source": [
    "def y_star(t: float):\n",
    "    return (1 / (4 * (np.exp(4) - 2 * np.exp(2) + 1))) * (np.sin(t) * np.exp(4) + np.sin(1) * t * np.exp(3 + t) + np.sin(1) * t * np.exp(3 - t) - np.sin(1) * t * np.exp(1 + t) - np.sin(1) * t * np.exp(1 - t) - np.sin(t) * 2 * np.exp(2) - np.sin(1) * 2 * np.exp(3 + t) + np.sin(1) * 2 * np.exp(3 - t) + np.sin(t))"
   ]
  },
  {
   "attachments": {},
   "cell_type": "markdown",
   "metadata": {},
   "source": [
    "## Ход основного алгоритма"
   ]
  },
  {
   "cell_type": "code",
   "execution_count": null,
   "metadata": {},
   "outputs": [],
   "source": [
    "for i in range(n):\n",
    "    right_side[i] = y_star(t[i])\n",
    "    "
   ]
  },
  {
   "cell_type": "code",
   "execution_count": null,
   "metadata": {},
   "outputs": [],
   "source": [
    "right_side\n",
    "    "
   ]
  },
  {
   "cell_type": "code",
   "execution_count": null,
   "metadata": {},
   "outputs": [],
   "source": [
    "for i in range(n):\n",
    "#     left_side[i,i] = alpha + h * G_star_ts(t[i],s[0]) * A[0]\n",
    "    for j in range(n):\n",
    "        left_side[i,j] = h * A[j] * G_star_ts(t[i],s[j])"
   ]
  },
  {
   "cell_type": "code",
   "execution_count": null,
   "metadata": {},
   "outputs": [],
   "source": [
    "for i in range(n):\n",
    "    left_side[i,i] = alpha + h * G_star_ts(t[i],s[i]) * A[i]"
   ]
  },
  {
   "cell_type": "code",
   "execution_count": null,
   "metadata": {},
   "outputs": [],
   "source": [
    "left_side"
   ]
  },
  {
   "cell_type": "code",
   "execution_count": null,
   "metadata": {},
   "outputs": [],
   "source": [
    "np.linalg.solve(left_side,right_side)"
   ]
  },
  {
   "cell_type": "markdown",
   "metadata": {},
   "source": [
    "## Построение графиков"
   ]
  },
  {
   "cell_type": "code",
   "execution_count": null,
   "metadata": {},
   "outputs": [],
   "source": [
    "plt.figure(figsize=(8, 6))\n",
    "plt.title(f'Решение без границ(обрезанное) на сетке размером:{n}, с значением alpha:{alpha}')\n",
    "plt.plot(x[10:90],np.linalg.solve(left_side,right_side)[10:90],label = 'численное решение',color = 'red')\n",
    "plt.plot(x,real_one,label = 'точное решение',color = 'blue')\n",
    "plt.grid(True)\n",
    "plt.legend()"
   ]
  },
  {
   "cell_type": "code",
   "execution_count": null,
   "metadata": {},
   "outputs": [],
   "source": [
    "plt.figure(figsize=(8, 6))\n",
    "plt.title(f'Решение на сетке размером:{n}, с значением alpha:{alpha}')\n",
    "plt.plot(x,np.linalg.solve(left_side,right_side),label = 'численное решение',color = 'red')\n",
    "plt.plot(x,real_one,label = 'точное решение',color = 'blue')\n",
    "plt.grid(True)\n",
    "plt.legend()"
   ]
  },
  {
   "cell_type": "code",
   "execution_count": null,
   "metadata": {},
   "outputs": [],
   "source": [
    "plt.figure(figsize=(8, 6))\n",
    "plt.title(f'Численное решение на сетке размером:{n}, с значением alpha:{alpha}')\n",
    "plt.plot(x,np.linalg.solve(left_side,right_side),label = 'численное решение',color = 'red')\n",
    "plt.grid(True)\n",
    "plt.legend()"
   ]
  },
  {
   "cell_type": "code",
   "execution_count": null,
   "metadata": {},
   "outputs": [],
   "source": [
    "plt.figure(figsize=(8, 6))\n",
    "plt.title(f'Точное решение на сетке размером:{n}')\n",
    "plt.plot(x,real_one,label = 'точное решение',color = 'blue')\n",
    "plt.grid(True)\n",
    "plt.legend()"
   ]
  },
  {
   "attachments": {},
   "cell_type": "markdown",
   "metadata": {},
   "source": [
    "### Сравнение функции для правой части с решением maple"
   ]
  },
  {
   "cell_type": "code",
   "execution_count": null,
   "metadata": {},
   "outputs": [],
   "source": [
    "plt.figure(figsize=(8, 6))\n",
    "plt.plot(x,right_side)"
   ]
  },
  {
   "attachments": {
    "image.png": {
     "image/png": "[encoded data removed]"
    }
   },
   "cell_type": "markdown",
   "metadata": {},
   "source": [
    "![image.png](attachment:image.png)"
   ]
  },
  {
   "attachments": {},
   "cell_type": "markdown",
   "metadata": {},
   "source": [
    "# Иницилизация численного алгоритма с шумом"
   ]
  },
  {
   "cell_type": "code",
   "execution_count": null,
   "metadata": {},
   "outputs": [],
   "source": [
    "%reset -f"
   ]
  },
  {
   "cell_type": "code",
   "execution_count": null,
   "metadata": {},
   "outputs": [],
   "source": [
    "import numpy as np\n",
    "import matplotlib.pyplot as plt"
   ]
  },
  {
   "cell_type": "code",
   "execution_count": null,
   "metadata": {},
   "outputs": [],
   "source": [
    "a,b = 0,1\n",
    "n = 100\n",
    "t = np.linspace(a,b,n)\n",
    "s = np.linspace(a,b,n)\n",
    "x = np.linspace(a,b,n)\n",
    "alpha = 1e-6\n",
    "right_side = np.full(n,np.NAN)\n",
    "left_side = np.full((n,n),np.NAN)\n",
    "real_one = np.full(n,np.NAN)\n",
    "A = np.ones(n)\n",
    "A[0],A[n - 1] = 0.5,0.5\n",
    "h = (b - a) / (n - 1)\n",
    "eps = 0.001"
   ]
  },
  {
   "attachments": {},
   "cell_type": "markdown",
   "metadata": {},
   "source": [
    "## Задание функция с численной правой частью"
   ]
  },
  {
   "cell_type": "code",
   "execution_count": null,
   "metadata": {},
   "outputs": [],
   "source": [
    "def phi(s: float) -> float:\n",
    "    # return ((1/2) * (np.exp(s-1) - np.exp(-s + 1))) * np.exp(1) / (np.exp(s) * np.exp(-s+1) - np.exp(-s) * np.exp(s-1))\n",
    "    return ((0.5) * (np.exp(s-1) - np.exp(-s + 1)) * np.exp(1)) / (np.exp(2) - 1)\n",
    "\n",
    "def theta(s: float) -> float:\n",
    "    # return ((1/2) * (np.exp(s) - np.exp(-s))) / (np.exp(s) * np.exp(-s+1) - np.exp(-s) * np.exp(s-1))\n",
    "    return ((0.5) * (np.exp(s) - np.exp(-s)) * np.exp(1)) / (np.exp(2) - 1)\n",
    "\n",
    "def y(x: float,eps: float) -> float:\n",
    "    return (1 + eps * (2 * np.random.uniform(0,1,1)[0] - 1)) * (-0.5 * (np.sin(x) * np.exp(2) + np.sin(1) * np.exp(-x + 1) - np.sin(1) * np.exp(x + 1) - np.sin(x))) / (np.exp(2) - 1)\n",
    "\n",
    "\n",
    "def y_star(t: float) -> float:\n",
    "    sum = 0\n",
    "    for i in range(1, n-1):\n",
    "        if x[i] < t:\n",
    "            sum += phi(t) * (np.exp(x[i]) - np.exp(-x[i])) * y(x[i],eps)\n",
    "            # sum += theta(t) * (np.exp(x[i] - 1) - np.exp(-x[i] + 1)) * y(x[i])\n",
    "        else:\n",
    "            # sum += phi(t) * (np.exp(x[i]) - np.exp(-x[i])) * y(x[i])\n",
    "            sum += theta(t) * (np.exp(x[i] - 1) - np.exp(-x[i] + 1)) * y(x[i],eps)\n",
    "    sum *= 2\n",
    "    sum += phi(t) * (np.exp(x[0]) - np.exp(-x[0])) * y(x[0],eps) + \\\n",
    "        theta(t) * (np.exp(x[n-1] - 1) - np.exp(-x[n-1] + 1)) * y(x[n-1],eps)\n",
    "    return (h/2) * sum\n",
    "\n",
    "def G_star_ts(t: float,s: float):\n",
    "    if s > t:\n",
    "        return (1 / (4 * (-np.exp(4) + 2 * np.exp(2) - 1))) * (np.exp(2 + t - s) * s - np.exp(2 + t - s) * t + np.exp(4 - t - s) * s + np.exp(4 - t - s) * t + np.exp(2 - t + s) * s - np.exp(2 - t + s) * t + np.exp(s + t) * s + np.exp(s + t) * t - np.exp(2 + s + t) * s - np.exp(2 + s + t) * t - np.exp(s - t) * s + np.exp(s - t) * t - np.exp(t + 4 - s) * s + np.exp(t + 4 - s) * t - np.exp(2 - t - s) * s - np.exp(2 - t - s) * t - np.exp(2 + t - s) + np.exp(4 - t - s) - 3 * np.exp(2 - t + s) - np.exp(s + t) + 3 * np.exp(2 + s + t) + np.exp(s - t) - np.exp(t + 4 - s) + np.exp(2 - t - s))\n",
    "    else:\n",
    "        return (1 / (4 * (np.exp(4) - 2 * np.exp(2) + 1))) * (np.exp(2 + t - s) * s - np.exp(2 + t - s) * t - np.exp(4 - t - s) * s - np.exp(4 - t - s) * t + np.exp(2 - t + s) * s - np.exp(2 - t + s) * t - np.exp(s + t) * s - np.exp(s + t) * t + np.exp(2 + s + t) * s + np.exp(2 + s + t) * t - np.exp(4 - t + s) * s + np.exp(4 - t + s) * t - np.exp(t - s) * s + np.exp(t - s) * t + np.exp(2 - t - s) * s + np.exp(2 - t - s) * t + 3 * np.exp(2 + t - s) - np.exp(4 - t - s) + np.exp(2 - t + s) + np.exp(s + t) - 3 * np.exp(2 + s + t) + np.exp(4 - t + s) - np.exp(t - s) - np.exp(2 - t - s))"
   ]
  },
  {
   "attachments": {},
   "cell_type": "markdown",
   "metadata": {},
   "source": [
    "## Основной ход алгоритма"
   ]
  },
  {
   "cell_type": "code",
   "execution_count": null,
   "metadata": {},
   "outputs": [],
   "source": [
    "for i in range(n):\n",
    "    real_one[i] = np.sin(x[i])\n",
    "for i in range(n):\n",
    "    right_side[i] = y_star(t[i])\n",
    "    \n",
    "for i in range(n):\n",
    "    for j in range(n):\n",
    "        left_side[i,j] = h * A[j] * G_star_ts(t[i],s[j])\n",
    "for i in range(n):\n",
    "    left_side[i,i] = alpha + h * G_star_ts(t[i],s[i]) * A[i]"
   ]
  },
  {
   "attachments": {},
   "cell_type": "markdown",
   "metadata": {},
   "source": [
    "## Построение графиков"
   ]
  },
  {
   "cell_type": "code",
   "execution_count": null,
   "metadata": {},
   "outputs": [],
   "source": [
    "plt.figure(figsize=(8, 6))\n",
    "plt.title(f'Решение на сетке размером:{n}, с значением alpha:{alpha}')\n",
    "plt.plot(x,np.linalg.solve(left_side,right_side),label = 'численное решение',color = 'red')\n",
    "plt.plot(x,real_one,label = 'точное решение',color = 'blue')\n",
    "plt.grid(True)\n",
    "plt.legend()"
   ]
  },
  {
   "cell_type": "code",
   "execution_count": null,
   "metadata": {},
   "outputs": [],
   "source": [
    "plt.figure(figsize=(8, 6))\n",
    "plt.title(f'Численное решение на сетке размером:{n}, с значением alpha:{alpha}')\n",
    "plt.plot(x,np.linalg.solve(left_side,right_side),label = 'численное решение',color = 'red')\n",
    "plt.grid(True)\n",
    "plt.legend()"
   ]
  },
  {
   "cell_type": "code",
   "execution_count": null,
   "metadata": {},
   "outputs": [],
   "source": [
    "plt.figure(figsize=(8, 6))\n",
    "plt.title(f'Точное решение на сетке размером:{n}')\n",
    "plt.plot(x,real_one,label = 'точное решение',color = 'blue')\n",
    "plt.grid(True)\n",
    "plt.legend()"
   ]
  },
  {
   "cell_type": "code",
   "execution_count": null,
   "metadata": {},
   "outputs": [],
   "source": [
    "plt.figure(figsize=(8, 6))\n",
    "plt.plot(x,right_side)"
   ]
  },
  {
   "attachments": {},
   "cell_type": "markdown",
   "metadata": {},
   "source": [
    "# Анализ коэфициента альфа"
   ]
  },
  {
   "cell_type": "code",
   "execution_count": null,
   "metadata": {},
   "outputs": [],
   "source": [
    "%reset -f"
   ]
  },
  {
   "cell_type": "code",
   "execution_count": null,
   "metadata": {},
   "outputs": [],
   "source": [
    "import numpy as np\n",
    "import matplotlib.pyplot as plt"
   ]
  },
  {
   "cell_type": "code",
   "execution_count": null,
   "metadata": {},
   "outputs": [],
   "source": [
    "a,b = 0,1\n",
    "n = 100\n",
    "t = np.linspace(a,b,n)\n",
    "s = np.linspace(a,b,n)\n",
    "x = np.linspace(a,b,n)\n",
    "alpha = 0.00062815\n",
    "right_side = np.full(n,np.NAN)\n",
    "left_side = np.full((n,n),np.NAN)\n",
    "real_one = np.full(n,np.NAN)\n",
    "A = np.ones(n)\n",
    "A[0],A[n - 1] = 0.5,0.5\n",
    "h = (b - a) / (n - 1)\n",
    "np.random.seed(42)\n",
    "R = 0.5221835340\n",
    "eps = 0.001"
   ]
  },
  {
   "cell_type": "code",
   "execution_count": null,
   "metadata": {},
   "outputs": [],
   "source": [
    "def phi(s: float) -> float:\n",
    "    # return ((1/2) * (np.exp(s-1) - np.exp(-s + 1))) * np.exp(1) / (np.exp(s) * np.exp(-s+1) - np.exp(-s) * np.exp(s-1))\n",
    "    return ((0.5) * (np.exp(s-1) - np.exp(-s + 1)) * np.exp(1)) / (np.exp(2) - 1)\n",
    "\n",
    "def theta(s: float) -> float:\n",
    "    # return ((1/2) * (np.exp(s) - np.exp(-s))) / (np.exp(s) * np.exp(-s+1) - np.exp(-s) * np.exp(s-1))\n",
    "    return ((0.5) * (np.exp(s) - np.exp(-s)) * np.exp(1)) / (np.exp(2) - 1)\n",
    "\n",
    "def y(x: float,eps: float) -> float:\n",
    "    return (1 + eps * (2 * np.random.uniform(0,1,1)[0] - 1)) * (-0.5 * (np.sin(x) * np.exp(2) + np.sin(1) * np.exp(-x + 1) - np.sin(1) * np.exp(x + 1) - np.sin(x))) / (np.exp(2) - 1)\n",
    "\n",
    "\n",
    "def y_star(t: float) -> float:\n",
    "    sum = 0\n",
    "    for i in range(1, n-1):\n",
    "        if x[i] < t:\n",
    "            sum += phi(t) * (np.exp(x[i]) - np.exp(-x[i])) * y(x[i],eps)\n",
    "            # sum += theta(t) * (np.exp(x[i] - 1) - np.exp(-x[i] + 1)) * y(x[i])\n",
    "        else:\n",
    "            # sum += phi(t) * (np.exp(x[i]) - np.exp(-x[i])) * y(x[i])\n",
    "            sum += theta(t) * (np.exp(x[i] - 1) - np.exp(-x[i] + 1)) * y(x[i],eps)\n",
    "    sum *= 2\n",
    "    sum += phi(t) * (np.exp(x[0]) - np.exp(-x[0])) * y(x[0],eps) + \\\n",
    "        theta(t) * (np.exp(x[n-1] - 1) - np.exp(-x[n-1] + 1)) * y(x[n-1],eps)\n",
    "    return (h/2) * sum\n",
    "\n",
    "def G_star_ts(t: float,s: float):\n",
    "    if s > t:\n",
    "        return (1 / (4 * (-np.exp(4) + 2 * np.exp(2) - 1))) * (np.exp(2 + t - s) * s - np.exp(2 + t - s) * t + np.exp(4 - t - s) * s + np.exp(4 - t - s) * t + np.exp(2 - t + s) * s - np.exp(2 - t + s) * t + np.exp(s + t) * s + np.exp(s + t) * t - np.exp(2 + s + t) * s - np.exp(2 + s + t) * t - np.exp(s - t) * s + np.exp(s - t) * t - np.exp(t + 4 - s) * s + np.exp(t + 4 - s) * t - np.exp(2 - t - s) * s - np.exp(2 - t - s) * t - np.exp(2 + t - s) + np.exp(4 - t - s) - 3 * np.exp(2 - t + s) - np.exp(s + t) + 3 * np.exp(2 + s + t) + np.exp(s - t) - np.exp(t + 4 - s) + np.exp(2 - t - s))\n",
    "    else:\n",
    "        return (1 / (4 * (np.exp(4) - 2 * np.exp(2) + 1))) * (np.exp(2 + t - s) * s - np.exp(2 + t - s) * t - np.exp(4 - t - s) * s - np.exp(4 - t - s) * t + np.exp(2 - t + s) * s - np.exp(2 - t + s) * t - np.exp(s + t) * s - np.exp(s + t) * t + np.exp(2 + s + t) * s + np.exp(2 + s + t) * t - np.exp(4 - t + s) * s + np.exp(4 - t + s) * t - np.exp(t - s) * s + np.exp(t - s) * t + np.exp(2 - t - s) * s + np.exp(2 - t - s) * t + 3 * np.exp(2 + t - s) - np.exp(4 - t - s) + np.exp(2 - t + s) + np.exp(s + t) - 3 * np.exp(2 + s + t) + np.exp(4 - t + s) - np.exp(t - s) - np.exp(2 - t - s))\n",
    "    \n",
    "def norma_L2(f: np.ndarray):\n",
    "    sum = 0\n",
    "    for i in range(1, n-1):\n",
    "        sum += (np.abs(f[i]) ** 2)\n",
    "    sum *= 2\n",
    "    sum += (np.abs(f[0]) ** 2) + (np.abs(f[n-1]) ** 2)\n",
    "    return np.sqrt((h/2) * sum)"
   ]
  },
  {
   "cell_type": "code",
   "execution_count": null,
   "metadata": {},
   "outputs": [],
   "source": [
    "for i in range(n):\n",
    "    real_one[i] = np.sin(x[i])\n",
    "for i in range(n):\n",
    "    right_side[i] = y_star(t[i])\n",
    "    \n",
    "for i in range(n):\n",
    "    for j in range(n):\n",
    "        left_side[i,j] = h * A[j] * G_star_ts(t[i],s[j])\n",
    "for i in range(n):\n",
    "    left_side[i,i] = alpha + h * G_star_ts(t[i],s[i]) * A[i]"
   ]
  },
  {
   "cell_type": "code",
   "execution_count": null,
   "metadata": {},
   "outputs": [],
   "source": [
    "plt.figure(figsize=(8, 6))\n",
    "plt.title(f'Решение на сетке размером:{n}, с значением alpha:{alpha}')\n",
    "plt.plot(x,np.linalg.solve(left_side,right_side),label = 'численное решение',color = 'red')\n",
    "plt.plot(x,real_one,label = 'точное решение',color = 'blue')\n",
    "plt.grid(True)\n",
    "plt.legend()"
   ]
  },
  {
   "cell_type": "code",
   "execution_count": null,
   "metadata": {},
   "outputs": [],
   "source": [
    "plt.figure(figsize=(8, 6))\n",
    "plt.title(f'Численное решение на сетке размером:{n}, с значением alpha:{alpha}')\n",
    "plt.plot(x,np.linalg.solve(left_side,right_side),label = 'численное решение',color = 'red')\n",
    "plt.grid(True)\n",
    "plt.legend()"
   ]
  },
  {
   "cell_type": "code",
   "execution_count": null,
   "metadata": {},
   "outputs": [],
   "source": [
    "norma_L2(np.linalg.solve(left_side,right_side) - R)"
   ]
  },
  {
   "attachments": {},
   "cell_type": "markdown",
   "metadata": {},
   "source": [
    "## функция для алгоритма"
   ]
  },
  {
   "cell_type": "code",
   "execution_count": 99,
   "metadata": {},
   "outputs": [],
   "source": [
    "def test(alpha: float):\n",
    "    a,b = 0,1\n",
    "    n = 100\n",
    "    t = np.linspace(a,b,n)\n",
    "    s = np.linspace(a,b,n)\n",
    "    x = np.linspace(a,b,n)\n",
    "    right_side = np.full(n,np.NAN)\n",
    "    left_side = np.full((n,n),np.NAN)\n",
    "    real_one = np.full(n,np.NAN)\n",
    "    A = np.ones(n)\n",
    "    A[0],A[n - 1] = 0.5,0.5\n",
    "    h = (b - a) / (n - 1)\n",
    "    np.random.seed(42)\n",
    "    R = 0.5221835340\n",
    "    eps = 0.001\n",
    "    def phi(s: float) -> float:\n",
    "    # return ((1/2) * (np.exp(s-1) - np.exp(-s + 1))) * np.exp(1) / (np.exp(s) * np.exp(-s+1) - np.exp(-s) * np.exp(s-1))\n",
    "        return ((0.5) * (np.exp(s-1) - np.exp(-s + 1)) * np.exp(1)) / (np.exp(2) - 1)\n",
    "\n",
    "    def theta(s: float) -> float:\n",
    "        # return ((1/2) * (np.exp(s) - np.exp(-s))) / (np.exp(s) * np.exp(-s+1) - np.exp(-s) * np.exp(s-1))\n",
    "        return ((0.5) * (np.exp(s) - np.exp(-s)) * np.exp(1)) / (np.exp(2) - 1)\n",
    "\n",
    "    def y(x: float,eps: float) -> float:\n",
    "        return (1 + eps * (2 * np.random.uniform(0,1,1)[0] - 1)) * (-0.5 * (np.sin(x) * np.exp(2) + np.sin(1) * np.exp(-x + 1) - np.sin(1) * np.exp(x + 1) - np.sin(x))) / (np.exp(2) - 1)\n",
    "\n",
    "\n",
    "    def y_star(t: float) -> float:\n",
    "        sum = 0\n",
    "        for i in range(1, n-1):\n",
    "            if x[i] < t:\n",
    "                sum += phi(t) * (np.exp(x[i]) - np.exp(-x[i])) * y(x[i],eps)\n",
    "                # sum += theta(t) * (np.exp(x[i] - 1) - np.exp(-x[i] + 1)) * y(x[i])\n",
    "            else:\n",
    "                # sum += phi(t) * (np.exp(x[i]) - np.exp(-x[i])) * y(x[i])\n",
    "                sum += theta(t) * (np.exp(x[i] - 1) - np.exp(-x[i] + 1)) * y(x[i],eps)\n",
    "        sum *= 2\n",
    "        sum += phi(t) * (np.exp(x[0]) - np.exp(-x[0])) * y(x[0],eps) + \\\n",
    "            theta(t) * (np.exp(x[n-1] - 1) - np.exp(-x[n-1] + 1)) * y(x[n-1],eps)\n",
    "        return (h/2) * sum\n",
    "\n",
    "    def G_star_ts(t: float,s: float):\n",
    "        if s > t:\n",
    "            return (1 / (4 * (-np.exp(4) + 2 * np.exp(2) - 1))) * (np.exp(2 + t - s) * s - np.exp(2 + t - s) * t + np.exp(4 - t - s) * s + np.exp(4 - t - s) * t + np.exp(2 - t + s) * s - np.exp(2 - t + s) * t + np.exp(s + t) * s + np.exp(s + t) * t - np.exp(2 + s + t) * s - np.exp(2 + s + t) * t - np.exp(s - t) * s + np.exp(s - t) * t - np.exp(t + 4 - s) * s + np.exp(t + 4 - s) * t - np.exp(2 - t - s) * s - np.exp(2 - t - s) * t - np.exp(2 + t - s) + np.exp(4 - t - s) - 3 * np.exp(2 - t + s) - np.exp(s + t) + 3 * np.exp(2 + s + t) + np.exp(s - t) - np.exp(t + 4 - s) + np.exp(2 - t - s))\n",
    "        else:\n",
    "            return (1 / (4 * (np.exp(4) - 2 * np.exp(2) + 1))) * (np.exp(2 + t - s) * s - np.exp(2 + t - s) * t - np.exp(4 - t - s) * s - np.exp(4 - t - s) * t + np.exp(2 - t + s) * s - np.exp(2 - t + s) * t - np.exp(s + t) * s - np.exp(s + t) * t + np.exp(2 + s + t) * s + np.exp(2 + s + t) * t - np.exp(4 - t + s) * s + np.exp(4 - t + s) * t - np.exp(t - s) * s + np.exp(t - s) * t + np.exp(2 - t - s) * s + np.exp(2 - t - s) * t + 3 * np.exp(2 + t - s) - np.exp(4 - t - s) + np.exp(2 - t + s) + np.exp(s + t) - 3 * np.exp(2 + s + t) + np.exp(4 - t + s) - np.exp(t - s) - np.exp(2 - t - s))\n",
    "        \n",
    "    def norma_L2(f: np.ndarray):\n",
    "        sum = 0\n",
    "        for i in range(1, n-1):\n",
    "            sum += (np.abs(f[i]) ** 2)\n",
    "        sum *= 2\n",
    "        sum += (np.abs(f[0]) ** 2) + (np.abs(f[n-1]) ** 2)\n",
    "        return np.sqrt((h/2) * sum)\n",
    "    for i in range(n):\n",
    "        real_one[i] = np.sin(x[i])\n",
    "    for i in range(n):\n",
    "        right_side[i] = y_star(t[i])\n",
    "    \n",
    "    for i in range(n):\n",
    "        for j in range(n):\n",
    "            left_side[i,j] = h * A[j] * G_star_ts(t[i],s[j])\n",
    "    for i in range(n):\n",
    "        left_side[i,i] = alpha + h * G_star_ts(t[i],s[i]) * A[i]\n",
    "    return np.abs(norma_L2(np.linalg.solve(left_side,right_side) - R))"
   ]
  },
  {
   "cell_type": "code",
   "execution_count": 100,
   "metadata": {},
   "outputs": [
    {
     "name": "stdout",
     "output_type": "stream",
     "text": [
      "Optimization terminated successfully.\n",
      "         Current function value: 0.245677\n",
      "         Iterations: 6\n",
      "         Function evaluations: 12\n",
      "[0.00062997]\n"
     ]
    }
   ],
   "source": [
    "from scipy.optimize import minimize\n",
    "import numpy as np\n",
    "res = minimize(test, 0.00077535, method='nelder-mead', options={'xatol': 1e-5, 'disp': True})\n",
    "\n",
    "# Вывод результатов\n",
    "print(res.x)"
   ]
  },
  {
   "cell_type": "code",
   "execution_count": null,
   "metadata": {},
   "outputs": [],
   "source": [
    "0.00077535\n",
    "0.00062997"
   ]
  },
  {
   "cell_type": "code",
   "execution_count": 104,
   "metadata": {},
   "outputs": [
    {
     "name": "stdout",
     "output_type": "stream",
     "text": [
      "[0.00062617]\n"
     ]
    }
   ],
   "source": [
    "from scipy.optimize import rosen, basinhopping\n",
    "\n",
    "minimizer_kwargs = {\"method\": \"BFGS\"}\n",
    "temperature = 1\n",
    "stepsize = 250\n",
    "\n",
    "# Запускаем алгоритм\n",
    "res = basinhopping(test, 0.00062997, minimizer_kwargs=minimizer_kwargs, T=temperature, stepsize=stepsize,niter=20)\n",
    "print(res.x)"
   ]
  },
  {
   "cell_type": "code",
   "execution_count": 103,
   "metadata": {},
   "outputs": [
    {
     "data": {
      "text/plain": [
       "0.245676251932548"
      ]
     },
     "execution_count": 103,
     "metadata": {},
     "output_type": "execute_result"
    }
   ],
   "source": [
    "test(0.00062617)"
   ]
  },
  {
   "cell_type": "code",
   "execution_count": null,
   "metadata": {},
   "outputs": [],
   "source": []
  }
 ],
 "metadata": {
  "kernelspec": {
   "display_name": "Python 3 (ipykernel)",
   "language": "python",
   "name": "python3"
  },
  "language_info": {
   "codemirror_mode": {
    "name": "ipython",
    "version": 3
   },
   "file_extension": ".py",
   "mimetype": "text/x-python",
   "name": "python",
   "nbconvert_exporter": "python",
   "pygments_lexer": "ipython3",
   "version": "3.10.1"
  },
  "vscode": {
   "interpreter": {
    "hash": "369f2c481f4da34e4445cda3fffd2e751bd1c4d706f27375911949ba6bb62e1c"
   }
  }
 },
 "nbformat": 4,
 "nbformat_minor": 2
}
