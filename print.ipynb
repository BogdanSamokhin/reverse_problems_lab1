{
 "cells": [
  {
   "cell_type": "code",
   "execution_count": 1,
   "metadata": {},
   "outputs": [],
   "source": [
    "eps = 0.001\n",
    "R = 0.95\n",
    "POINT = 4.500000000000007e-06\n",
    "VALUE = 0.000165264442970825"
   ]
  },
  {
   "cell_type": "code",
   "execution_count": 2,
   "metadata": {},
   "outputs": [],
   "source": [
    "eps = 0.001\n",
    "R = 1\n",
    "POINT = 1.5312500000000101e-06\n",
    "VALUE = 0.00011508153505390695"
   ]
  },
  {
   "cell_type": "code",
   "execution_count": 3,
   "metadata": {},
   "outputs": [],
   "source": [
    "eps = 0.001\n",
    "R = 1\n",
    "POINT = 1.0371093750000106e-06\n",
    "VALUE = 7.787120535474035e-05"
   ]
  },
  {
   "cell_type": "code",
   "execution_count": 4,
   "metadata": {},
   "outputs": [],
   "source": [
    "eps = 0.01\n",
    "R = 0.95\n",
    "POINT = 1.8500000000000023e-05\n",
    "VALUE = 0.0005748870233332481"
   ]
  },
  {
   "cell_type": "code",
   "execution_count": 5,
   "metadata": {},
   "outputs": [],
   "source": [
    "eps = 0.01\n",
    "R = 1\n",
    "POINT = 1.1781250000000005e-05\n",
    "VALUE = 8.561063110468226e-05"
   ]
  },
  {
   "cell_type": "code",
   "execution_count": 6,
   "metadata": {},
   "outputs": [],
   "source": [
    "eps = 0.01\n",
    "R = 1.05\n",
    "POINT = 9.085937500000001e-06\n",
    "VALUE = 5.143520790840128e-05"
   ]
  },
  {
   "cell_type": "code",
   "execution_count": 7,
   "metadata": {},
   "outputs": [],
   "source": [
    "eps = 0.05\n",
    "R = 0.95\n",
    "POINT = 6.250000000000011e-05\n",
    "VALUE = 0.00064020359814837"
   ]
  },
  {
   "cell_type": "code",
   "execution_count": 8,
   "metadata": {},
   "outputs": [],
   "source": [
    "eps = 0.05\n",
    "R = 1\n",
    "POINT = 4.837500000000009e-05\n",
    "VALUE = 0.0001439938476636149"
   ]
  },
  {
   "cell_type": "code",
   "execution_count": 9,
   "metadata": {},
   "outputs": [],
   "source": [
    "eps = 0.05\n",
    "R = 1.05\n",
    "POINT = 4.018750000000007e-05\n",
    "VALUE = 0.00012183002717047753"
   ]
  },
  {
   "cell_type": "code",
   "execution_count": 10,
   "metadata": {},
   "outputs": [],
   "source": [
    "eps = 0.05\n",
    "R = 1.05\n",
    "POINT = 4.018750000000007e-05\n",
    "VALUE = 0.00012183002717047753"
   ]
  },
  {
   "cell_type": "code",
   "execution_count": 11,
   "metadata": {},
   "outputs": [],
   "source": [
    "eps = 0.1\n",
    "R = 0.95\n",
    "POINT = 0.0001095000000000002\n",
    "VALUE = 0.000932383592944841"
   ]
  },
  {
   "cell_type": "code",
   "execution_count": 12,
   "metadata": {},
   "outputs": [],
   "source": [
    "eps = 0.1\n",
    "R = 1\n",
    "POINT = 8.912500000000017e-05\n",
    "VALUE = 6.396143862907877e-05"
   ]
  },
  {
   "cell_type": "code",
   "execution_count": null,
   "metadata": {},
   "outputs": [],
   "source": [
    "eps = 0.1\n",
    "R = 1.05\n",
    "POINT = 7.581250000000014e-05\n",
    "VALUE = 5.46656047927252e-05"
   ]
  },
  {
   "attachments": {},
   "cell_type": "markdown",
   "metadata": {},
   "source": [
    "123123123123123123123123123123123123123123123123123123123123123123123123123123"
   ]
  },
  {
   "cell_type": "code",
   "execution_count": 13,
   "metadata": {},
   "outputs": [],
   "source": [
    "eps = 0.001\n",
    "R = 1.05\n",
    "POINT = 1.0500000000000001e-05\n",
    "VALUE = 0.2449438333190687"
   ]
  },
  {
   "cell_type": "code",
   "execution_count": 14,
   "metadata": {},
   "outputs": [],
   "source": [
    "eps = 0.01\n",
    "R = 1.05\n",
    "POINT = 6.550000000000011e-05\n",
    "VALUE = 0.304514"
   ]
  },
  {
   "cell_type": "code",
   "execution_count": 15,
   "metadata": {},
   "outputs": [],
   "source": [
    "eps = 0.05\n",
    "R = 1.05\n",
    "POINT = 0.00028950000000000053\n",
    "VALUE = 0.35388341176911187"
   ]
  },
  {
   "cell_type": "code",
   "execution_count": null,
   "metadata": {},
   "outputs": [],
   "source": [
    "eps = 0.1\n",
    "R = 1.05\n",
    "POINT = 0.00043350000000000083\n",
    "VALUE = 0.37803104450020186"
   ]
  },
  {
   "attachments": {},
   "cell_type": "markdown",
   "metadata": {},
   "source": [
    "123"
   ]
  },
  {
   "attachments": {},
   "cell_type": "markdown",
   "metadata": {},
   "source": [
    "eps = 0.1\n",
    "R = 1.05\n",
    "POINT = 0.00028950000000000053\n",
    "VALUE = 0.24099093898406632"
   ]
  },
  {
   "attachments": {},
   "cell_type": "markdown",
   "metadata": {},
   "source": [
    "eps = 0.001\n",
    "R = 1.05\n",
    "POINT = 5.000000000000006e-06\n",
    "VALUE = 0.14095406317524128"
   ]
  },
  {
   "cell_type": "code",
   "execution_count": null,
   "metadata": {},
   "outputs": [],
   "source": [
    "eps = 0.01\n",
    "R = 1.05\n",
    "POINT = 3.7500000000000064e-05\n",
    "VALUE = 0.18231799728085915"
   ]
  },
  {
   "cell_type": "code",
   "execution_count": null,
   "metadata": {},
   "outputs": [],
   "source": [
    "eps = 0.05\n",
    "R = 1.05\n",
    "POINT = 0.0001535000000000003\n",
    "VALUE = 0.2211814536243754"
   ]
  }
 ],
 "metadata": {
  "kernelspec": {
   "display_name": "Python 3",
   "language": "python",
   "name": "python3"
  },
  "language_info": {
   "codemirror_mode": {
    "name": "ipython",
    "version": 3
   },
   "file_extension": ".py",
   "mimetype": "text/x-python",
   "name": "python",
   "nbconvert_exporter": "python",
   "pygments_lexer": "ipython3",
   "version": "3.10.1"
  },
  "orig_nbformat": 4
 },
 "nbformat": 4,
 "nbformat_minor": 2
}
